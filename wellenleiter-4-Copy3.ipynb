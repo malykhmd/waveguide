{
 "cells": [
  {
   "cell_type": "code",
   "execution_count": 1,
   "metadata": {},
   "outputs": [],
   "source": [
    "# импортируем библиотеки\n",
    "import numpy as np\n",
    "from scipy import linalg"
   ]
  },
  {
   "cell_type": "markdown",
   "metadata": {},
   "source": [
    "Входные данные"
   ]
  },
  {
   "cell_type": "code",
   "execution_count": 11,
   "metadata": {},
   "outputs": [],
   "source": [
    "var(\"x,y,z,gamma\")\n",
    "epsilon0=1\n",
    "epsilon1=1.1\n",
    "mu=1\n",
    "Lx=1\n",
    "Ly=2\n",
    "# Интеграл по сечению волновода\n",
    "def integral_on_S(u):\n",
    "    return integral(integral(u,(x,0,Lx)),(y,0,Ly))\n",
    "# Интеграл по вставке\n",
    "def integral_on_S1(u):\n",
    "    return integral(integral(u,(x,0,Lx)),(y,0,Ly/2))\n",
    "# Рассматриваемые числовые значения gamma\n",
    "list_gamma_values = list(np.arange(0,5,0.25))\n",
    "# Число базисных функций Дирихле/Неймана\n",
    "MD=6/2\n",
    "ND=6/2\n",
    "MN=6/2\n",
    "NN=6/2\n",
    "# Число ядер процессора, используемых при вычислениях\n",
    "ncores=4"
   ]
  },
  {
   "cell_type": "code",
   "execution_count": 12,
   "metadata": {},
   "outputs": [],
   "source": [
    "# Списки индексов собственных функций сечения\n",
    "dirichlet_index=[[n,m] for n in range(1,MD+1) for m in range(1,ND+1)]\n",
    "neumann_index=[[n,m] for n in range(MN) for m in range(NN) if n+m>0]\n",
    "M1=len(dirichlet_index)\n",
    "M2=len(neumann_index)\n",
    "dn_index = neumann_index + dirichlet_index\n",
    "\n",
    "def alpha(n,m):\n",
    "    return sqrt(pi^2*n^2/Lx^2+pi^2*m^2/Ly^2)\n",
    "def beta(n,m):\n",
    "    return sqrt(pi^2*n^2/Lx^2+pi^2*m^2/Ly^2)\n",
    "\n",
    "q = (1/epsilon1 - 1/epsilon0)/mu\n",
    "\n",
    "# подсчет первого выражения на странице 22\n",
    "def d11(n1,m1,n2,m2,f11,ff11):\n",
    "    '''\n",
    "    f11 - вызов функции, которая считает двойной интеграл\n",
    "    ff11- аналогичо\n",
    "    '''\n",
    "    return q * (gamma^2/alpha(n1,m1)/alpha(n2,m2)*ff11+ alpha(n1,m1)*alpha(n2,m2)*f11)\n",
    "\n",
    "# подсчет второго выражения на странице 22\n",
    "def d12(n1,m1,n2,m2,f12):\n",
    "    return q * (gamma*sqrt(beta(n2,m2)^2+gamma^2)/alpha(n1,m1)/beta(n2,m2)*f12)\n",
    "\n",
    "# подсчет третьего выражения на странице 22\n",
    "def d22(n1,m1,n2,m2,f22):\n",
    "    return q * (sqrt(beta(n1,m1)^2+gamma^2)*sqrt(beta(n2,m2)^2+gamma^2)/beta(n1,m1)/beta(n2,m2)*f22)\n",
    "\n",
    "# функции для подсчета значений f_nm на странице 23\n",
    "var(\"n1,m1,n2,m2\")\n",
    "\n",
    "def g11(phi1,phi2):\n",
    "    return integral_on_S1(phi1*phi2)\n",
    "\n",
    "def g22(psi1,psi2):\n",
    "    return integral_on_S1(diff(psi1,x)*diff(psi2,x)+diff(psi1,y)*diff(psi2,y))\n",
    "\n",
    "def g12(phi1,psi2):\n",
    "    # почему здесь минус? Это подсчет интеграла во втором выражении d'_n,m на странице 22? -- Потому что это определитель\n",
    "    return integral_on_S1(diff(psi2,x)*diff(phi1,y)-diff(psi2,y)*diff(phi1,x))\n",
    "\n",
    "# Базисные функции и интегралы от них как символьные выражение от n1,m1,n2,m2\n",
    "norm=sqrt(Lx/2*Ly/2)\n",
    "phi1=sin(pi*n1*x/Lx)*sin(pi*m1*y/Ly)/norm\n",
    "phi2=sin(pi*n2*x/Lx)*sin(pi*m2*y/Ly)/norm\n",
    "phi2n=sin(pi*n1*x/Lx)*sin(pi*m2*y/Ly)/norm\n",
    "phi2m=sin(pi*n2*x/Lx)*sin(pi*m1*y/Ly)/norm\n",
    "\n",
    "\n",
    "# Отдельно рассматриваем случаи n1!=n2 и n1==n2, m1!=m2 и m1==m2, \n",
    "# поскольку общая формула не работает в особых случаях.\n",
    "f11=g11(phi1,phi2)\n",
    "f11n=g11(phi1,phi2n)\n",
    "f11m=g11(phi1,phi2m)\n",
    "f11nm=g11(phi1,phi1)\n",
    "\n",
    "ff11=g22(phi1,phi2)\n",
    "ff11n=g22(phi1,phi2n)\n",
    "ff11m=g22(phi1,phi2m)\n",
    "ff11nm=g22(phi1,phi1)\n",
    "    \n",
    "psi1=cos(pi*n1*x/Lx)*cos(pi*m1*y/Ly)/norm\n",
    "psi2=cos(pi*n2*x/Lx)*cos(pi*m2*y/Ly)/norm\n",
    "psi2n=cos(pi*n1*x/Lx)*cos(pi*m2*y/Ly)/norm\n",
    "psi2m=cos(pi*n2*x/Lx)*cos(pi*m1*y/Ly)/norm\n",
    "\n",
    "f22=g22(psi1,psi2)\n",
    "f22n=g22(psi1,psi2n)\n",
    "f22m=g22(psi1,psi2m)\n",
    "f22nm=g22(psi1,psi1)\n",
    "\n",
    "f12=g12(phi1,psi2)\n",
    "f12n=g12(phi1,psi2n)\n",
    "f12m=g12(phi1,psi2m)\n",
    "f12nm=g12(phi1,psi1)\n",
    "    \n",
    "norm0=sqrt(Lx*Ly/2)\n",
    "psi1n0=cos(pi*m1*y/Ly)/norm0\n",
    "psi2n0=cos(pi*m2*y/Ly)/norm0\n",
    "f22n0=g22(psi1n0,psi2n0)\n",
    "f22n0m=g22(psi1n0,psi1n0)\n",
    "\n",
    "psi1m0=cos(pi*n1*x/Lx)/norm0\n",
    "psi2m0=cos(pi*n2*x/Lx)/norm0\n",
    "f22m0=g22(psi1m0,psi2m0)\n",
    "f22m0n=g22(psi1m0,psi1m0)\n",
    "\n",
    "# Правила заполнения D0 и D1\n",
    "def foo(i,j, gamma):\n",
    "    if i<M1 and j<M1:\n",
    "        [vn1,vm1] =dirichlet_index[i]\n",
    "        [vn2,vm2] =dirichlet_index[j]\n",
    "        S=[n1==vn1, m1==vm1, n2==vn2, m2==vm2]\n",
    "        if i==j:\n",
    "            ans = d11(n1,m1,n2,m2,f11nm,ff11nm).subs(S)\n",
    "        elif vn1==vn2 and vm1!=vm2:\n",
    "            ans = d11(n1,m1,n2,m2,f11n,ff11n).subs(S)\n",
    "        elif vn1!=vn2 and vm1==vm2:\n",
    "            ans = d11(n1,m1,n2,m2,f11m,ff11m).subs(S)\n",
    "        else:\n",
    "            ans = d11(n1,m1,n2,m2,f11,ff11).subs(S)\n",
    "    elif i<M1 and j>=M1:\n",
    "        [vn1,vm1] =dirichlet_index[i]\n",
    "        [vn2,vm2] =neumann_index[j-M1]\n",
    "        S=[n1==vn1, m1==vm1, n2==vn2, m2==vm2]\n",
    "        if vn1==vn2 and vm1==vm2:\n",
    "            ans = d12(n1,m1,n2,m2,f12nm).subs(S)\n",
    "        elif vn1==vn2 and vm1!=vm2:\n",
    "            ans = d12(n1,m1,n2,m2,f12n).subs(S)\n",
    "        elif vn1!=vn2 and vm1==vm2:\n",
    "            ans = d12(n1,m1,n2,m2,f12m).subs(S)\n",
    "        else:\n",
    "            ans = d12(n1,m1,n2,m2,f12).subs(S)\n",
    "    elif i>=M1 and j<M1:\n",
    "        [vn1,vm1] =dirichlet_index[j]\n",
    "        [vn2,vm2] =neumann_index[i-M1]\n",
    "        S=[n1==vn1, m1==vm1, n2==vn2, m2==vm2]\n",
    "        if vn1==vn2 and vm1==vm2:\n",
    "            ans = d12(n1,m1,n2,m2,f12nm).subs(S)\n",
    "        elif vn1==vn2 and vm1!=vm2:\n",
    "            ans = d12(n1,m1,n2,m2,f12n).subs(S)\n",
    "        elif vn1!=vn2 and vm1==vm2:\n",
    "            ans = d12(n1,m1,n2,m2,f12m).subs(S)\n",
    "        else:\n",
    "            ans = d12(n1,m1,n2,m2,f12).subs(S)\n",
    "    else:\n",
    "        [vn1,vm1] =neumann_index[i-M1]\n",
    "        [vn2,vm2] =neumann_index[j-M1]\n",
    "        S=[n1==vn1, m1==vm1, n2==vn2, m2==vm2]\n",
    "        if vn1==0 and vn2==0:\n",
    "            if vm1==vm2:\n",
    "                ans=d22(n1,m1,n2,m2,f22n0m).subs(S)\n",
    "            else:\n",
    "                ans=d22(n1,m1,n2,m2,f22n0).subs(S)\n",
    "        elif vm1==0 and vm2==0:\n",
    "            if vn1==vn2:\n",
    "                ans=d22(n1,m1,n2,m2,f22m0n).subs(S)\n",
    "            else:\n",
    "                ans=d22(n1,m1,n2,m2,f22m0).subs(S)\n",
    "        else:\n",
    "            if i==j:\n",
    "                ans = d22(n1,m1,n2,m2,f22nm).subs(S)\n",
    "            elif vn1==vn2 and vm1!=vm2:\n",
    "                ans = d22(n1,m1,n2,m2,f22n).subs(S)\n",
    "            elif vn1!=vn2 and vm1==vm2:\n",
    "                ans = d22(n1,m1,n2,m2,f22m).subs(S)\n",
    "            else:\n",
    "                ans = d22(n1,m1,n2,m2,f22).subs(S)\n",
    "    return ans\n",
    "\n",
    "def foo2(i,j, gamma):\n",
    "    if i!=j:\n",
    "        ans=0\n",
    "    elif i<M1:\n",
    "        [vn,vm]=dirichlet_index[i]\n",
    "        # формула со сраницы 22 для подсчета элементов диагональной матрицы\n",
    "        ans=(gamma^2+alpha(vn,vm)^2)/mu/epsilon0\n",
    "    else:\n",
    "        [vn,vm]=neumann_index[i-M1]\n",
    "        ans=(gamma^2+beta(vn,vm)^2)/mu/epsilon0\n",
    "    return ans\n",
    "\n",
    "# Матрица D при gamma, равном численному значению ngamma.\n",
    "\n",
    "def D(ngamma):\n",
    "    D1 = matrix(RR,M1+M2, M1+M2, lambda i,j: foo(i,j, gamma).subs(gamma=ngamma))\n",
    "    D0 = matrix(RR,M1+M2, M1+M2, lambda i,j: foo2(i,j, gamma).subs(gamma=ngamma))\n",
    "    return D0 + D1\n",
    "\n",
    "# С.з. матрицы D при gamma, равном численному значению ngamma. \n",
    "@parallel(ncores)\n",
    "def k_square(ngamma):\n",
    "    a = np.array(list(D(ngamma)))\n",
    "    return [ngamma, linalg.eigvals(a)]"
   ]
  },
  {
   "cell_type": "code",
   "execution_count": 13,
   "metadata": {},
   "outputs": [],
   "source": [
    "# Проверка нормировки в L2\n",
    "# integral_on_S(psi1m0^2).subs([m1==5, n1==2])"
   ]
  },
  {
   "cell_type": "code",
   "execution_count": 14,
   "metadata": {},
   "outputs": [],
   "source": [
    "L=list(k_square(list_gamma_values))"
   ]
  },
  {
   "cell_type": "code",
   "execution_count": 15,
   "metadata": {},
   "outputs": [
    {
     "data": {
      "text/plain": [
       "array([ 30.88644922+0.j,  19.10753963+0.j,  19.09794351+0.j,\n",
       "        11.96211882+0.j,  12.13218606+0.j,   9.52118064+0.j,\n",
       "        59.26018487+0.j,  36.49364487+0.j,  39.85689454+0.j,\n",
       "        41.56901242+0.j,  47.62524667+0.j,  47.48018286+0.j,\n",
       "       106.73406208+0.j,  95.5469668 +0.j,  85.77495379+0.j,\n",
       "         2.58809396+0.j,   9.66541129+0.j])"
      ]
     },
     "execution_count": 15,
     "metadata": {},
     "output_type": "execute_result"
    }
   ],
   "source": [
    "#L[*][1][0 -- значение gamma, 1 -- список с.з.]\n",
    "L[1][1][1]"
   ]
  },
  {
   "cell_type": "code",
   "execution_count": 16,
   "metadata": {},
   "outputs": [
    {
     "data": {
      "image/png": "[encoded data removed]",
      "text/plain": [
       "Graphics object consisting of 20 graphics primitives"
      ]
     },
     "execution_count": 16,
     "metadata": {},
     "output_type": "execute_result"
    }
   ],
   "source": [
    "var(\"k\")\n",
    "LL=[[[sqrt(RR(i)), L[j][1][0]] for i in L[j][1][1]] for j in range(len(list_gamma_values))]\n",
    "plot1=sum(points(LL[j], axes_labels=[\"$k$\", '$\\\\gamma$'], xmax=5, ymax=5) for j in range(len(list_gamma_values)))\n",
    "plot1"
   ]
  },
  {
   "cell_type": "code",
   "execution_count": 17,
   "metadata": {},
   "outputs": [],
   "source": [
    "n=1\n",
    "kz=gamma\n",
    "kx=pi*n/Lx\n",
    "a11=sin(sqrt(epsilon1*mu*k^2 - kx^2 - kz^2)*Ly/2)\n",
    "a12=sinh(sqrt(kx^2 + kz^2 -epsilon0*mu*k^2)*Ly/2)\n",
    "a21=-sqrt(epsilon1*mu*k^2 - kx^2 - kz^2)*cos(sqrt(epsilon1*mu*k^2 - kx^2 - kz^2)*Ly/2)\n",
    "a22=sqrt(kx^2 + kz^2 -epsilon0*mu*k^2)*cosh(sqrt(kx^2 + kz^2 -epsilon0*mu*k^2)*Ly/2)\n",
    "A=matrix([[a11,a12],[a21,a22]])\n",
    "a11=sin(sqrt(epsilon1*mu*k^2 - kx^2 - kz^2)*Ly/2)\n",
    "a12=sin(sqrt(epsilon0*mu*k^2 - kx^2 - kz^2)*Ly/2)\n",
    "a21=sqrt(epsilon1*mu*k^2 - kx^2 - kz^2)*cos(sqrt(epsilon1*mu*k^2 - kx^2 - kz^2)*Ly/2)\n",
    "a22=-sqrt(epsilon0*mu*k^2 - kx^2 - kz^2)*cos(sqrt(epsilon0*mu*k^2 - kx^2 - kz^2)*Ly/2)\n",
    "B=matrix([[a11,a12],[a21,a22]])"
   ]
  },
  {
   "cell_type": "code",
   "execution_count": 18,
   "metadata": {},
   "outputs": [
    {
     "name": "stderr",
     "output_type": "stream",
     "text": [
      "/usr/lib64/python3.9/site-packages/sage/plot/contour_plot.py:206: UserWarning: No contour levels were found within the data range.\n",
      "  CS = subplot.contour(self.xy_data_array, contours, cmap=cmap,\n"
     ]
    },
    {
     "data": {
      "image/png": "[encoded data removed]",
      "text/plain": [
       "Graphics object consisting of 22 graphics primitives"
      ]
     },
     "execution_count": 18,
     "metadata": {},
     "output_type": "execute_result"
    }
   ],
   "source": [
    "plot2=implicit_plot(A.det()==0, (k,1,5),(kz,0,5), color=\"red\")+implicit_plot(B.det()==0, (k,1,5),(kz,0,5), color=\"green\")+plot1\n",
    "plot2"
   ]
  },
  {
   "cell_type": "code",
   "execution_count": 19,
   "metadata": {},
   "outputs": [],
   "source": [
    "plot2.save(f'new e1={epsilon1}, MD={MD}, MN={MN}, ND={ND}, NN={NN}.pdf')"
   ]
  },
  {
   "cell_type": "code",
   "execution_count": null,
   "metadata": {},
   "outputs": [],
   "source": []
  }
 ],
 "metadata": {
  "kernelspec": {
   "display_name": "SageMath 9.3",
   "language": "sage",
   "name": "sagemath"
  },
  "language_info": {
   "codemirror_mode": {
    "name": "ipython",
    "version": 3
   },
   "file_extension": ".py",
   "mimetype": "text/x-python",
   "name": "python",
   "nbconvert_exporter": "python",
   "pygments_lexer": "ipython3",
   "version": "3.9.13"
  }
 },
 "nbformat": 4,
 "nbformat_minor": 4
}
